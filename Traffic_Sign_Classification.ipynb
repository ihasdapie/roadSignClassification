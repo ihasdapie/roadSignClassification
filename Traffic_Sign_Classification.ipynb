{
  "nbformat": 4,
  "nbformat_minor": 0,
  "metadata": {
    "colab": {
      "name": "Traffic Sign Classification",
      "provenance": [],
      "mount_file_id": "1A5oaLQf0rYwCQndL9EmvXzbdl1S63bIC",
      "authorship_tag": "ABX9TyM1YQVy6NKCtJRMzs6elSxV",
      "include_colab_link": true
    },
    "kernelspec": {
      "name": "python3",
      "display_name": "Python 3"
    }
  },
  "cells": [
    {
      "cell_type": "markdown",
      "metadata": {
        "id": "view-in-github",
        "colab_type": "text"
      },
      "source": [
        "<a href=\"https://colab.research.google.com/github/ihasdapie/roadSignClassification/blob/master/Traffic_Sign_Classification.ipynb\" target=\"_parent\"><img src=\"https://colab.research.google.com/assets/colab-badge.svg\" alt=\"Open In Colab\"/></a>"
      ]
    },
    {
      "cell_type": "code",
      "metadata": {
        "id": "o1xWaoG4cx8_",
        "colab_type": "code",
        "colab": {}
      },
      "source": [
        "# grab datasets\n",
        "!wget -q https://sid.erda.dk/public/archives/daaeac0d7ce1152aea9b61d9f1e19370/GTSRB_Final_Test_Images.zip\n",
        "!wget -q https://sid.erda.dk/public/archives/daaeac0d7ce1152aea9b61d9f1e19370/GTSRB_Final_Training_Images.zip\n",
        "!wget -q https://sid.erda.dk/public/archives/daaeac0d7ce1152aea9b61d9f1e19370/GTSRB_Final_Test_GT.zip\n",
        "#unpack data\n",
        "!unzip -qq /content/GTSRB_Final_Test_GT.zip\n",
        "!unzip -qq /content/GTSRB_Final_Test_Images.zip\n",
        "!unzip -qq /content/GTSRB_Final_Training_Images.zip\n"
      ],
      "execution_count": null,
      "outputs": []
    },
    {
      "cell_type": "code",
      "metadata": {
        "id": "Mu6KddM8O_Rr",
        "colab_type": "code",
        "colab": {}
      },
      "source": [
        "# grab processed dataset\n",
        "!cp /content/drive/My\\ Drive/GTSRB/Processed_GTSRB_Dataset/GTSRB_Processed.zip /content/Processed_GTSRB.zip\n",
        "!unzip -qq Processed_GTSRB.zip\n",
        "\n",
        "# grab test csv\n",
        "!wget -q https://sid.erda.dk/public/archives/daaeac0d7ce1152aea9b61d9f1e19370/GTSRB_Final_Test_GT.zip\n",
        "!unzip -qq /content/GTSRB_Final_Test_GT.zip\n"
      ],
      "execution_count": null,
      "outputs": []
    },
    {
      "cell_type": "code",
      "metadata": {
        "id": "pc7-onO4nPgL",
        "colab_type": "code",
        "colab": {}
      },
      "source": [
        "# imports\n",
        "import glob\n",
        "import numpy as np\n",
        "from skimage import color, exposure, transform, io\n",
        "import keras\n",
        "import pandas\n",
        "import os\n",
        "from keras.models import Sequential\n",
        "from keras.layers.core import Dense, Dropout, Activation, Flatten\n",
        "from keras.layers.convolutional import Conv2D\n",
        "from keras.layers.pooling import MaxPooling2D\n",
        "from keras.optimizers import SGD, adam\n",
        "from keras import backend as K\n",
        "import time\n",
        "import cv2\n",
        "import pandas as pd"
      ],
      "execution_count": null,
      "outputs": []
    },
    {
      "cell_type": "code",
      "metadata": {
        "id": "1WuMPNvtXp9t",
        "colab_type": "code",
        "colab": {}
      },
      "source": [
        "# Constants\n",
        "NUM_CLASSES = 43\n",
        "IMAGE_SIZE=48  "
      ],
      "execution_count": null,
      "outputs": []
    },
    {
      "cell_type": "code",
      "metadata": {
        "id": "FQMZa0hXqRTE",
        "colab_type": "code",
        "colab": {}
      },
      "source": [
        "def getLabel(img_path):\n",
        "    return int(img_path.split('/')[-2])"
      ],
      "execution_count": null,
      "outputs": []
    },
    {
      "cell_type": "code",
      "metadata": {
        "id": "ucZ_TAgXTRD4",
        "colab_type": "code",
        "colab": {}
      },
      "source": [
        "# import images & labels\n",
        "\n",
        "BASE_TRAINING_DIR = \"/content/P_GTSRB/Final_Training/Images/\"\n",
        "\n",
        "TRAINING_PATHS = glob.glob(os.path.join(BASE_TRAINING_DIR, '*/*.ppm'))\n",
        "\n",
        "np.random.shuffle(TRAINING_PATHS)\n",
        "\n",
        "TRAINING_LABELS = [getLabel(path) for path in TRAINING_PATHS]"
      ],
      "execution_count": null,
      "outputs": []
    },
    {
      "cell_type": "code",
      "metadata": {
        "id": "eQ9qWqiNjF3s",
        "colab_type": "code",
        "colab": {}
      },
      "source": [
        "images = []\n",
        "for i in TRAINING_PATHS:\n",
        "    images.append(cv2.imread(i))"
      ],
      "execution_count": null,
      "outputs": []
    },
    {
      "cell_type": "code",
      "metadata": {
        "id": "4YuSpVZWXz7C",
        "colab_type": "code",
        "colab": {}
      },
      "source": [
        "X = np.array(images, dtype='float32')\n",
        "Y = np.eye(NUM_CLASSES, dtype='uint8')[TRAINING_LABELS]"
      ],
      "execution_count": null,
      "outputs": []
    },
    {
      "cell_type": "code",
      "metadata": {
        "id": "AOSG1DAYr9An",
        "colab_type": "code",
        "colab": {}
      },
      "source": [
        "K.set_image_data_format('channels_last')\n",
        "# change to channels last and imgsize, imgsize, 3 later\n",
        "def cnn_model():\n",
        "    model = Sequential()\n",
        "    model.add(Conv2D(32, (3,3), padding='same', input_shape=(IMAGE_SIZE, IMAGE_SIZE, 3), activation='relu'))\n",
        "    model.add(Conv2D(32, (3,3), activation='relu'))\n",
        "    model.add(MaxPooling2D(pool_size=(2,2)))\n",
        "    model.add(Dropout(0.2))\n",
        "\n",
        "    model.add(Conv2D(64, (3,3), padding='same', activation='relu'))\n",
        "    model.add(Conv2D(64, (3,3), activation='relu'))\n",
        "    model.add(MaxPooling2D(pool_size=(2,2)))\n",
        "    model.add(Dropout(0.2))\n",
        "\n",
        "    model.add(Conv2D(128, (3,3), padding='same', activation='relu'))\n",
        "    model.add(Conv2D(128, (3,3), activation='relu'))\n",
        "    model.add(MaxPooling2D(pool_size=(2,2)))\n",
        "    model.add(Dropout(0.2))\n",
        "\n",
        "    model.add(Flatten())\n",
        "    model.add(Dense(512, activation=\"relu\"))\n",
        "    model.add(Dropout(0.3))\n",
        "    model.add(Dense(NUM_CLASSES, activation='softmax'))\n",
        "    \n",
        "    return model\n"
      ],
      "execution_count": null,
      "outputs": []
    },
    {
      "cell_type": "code",
      "metadata": {
        "id": "63wLkqBdh2ng",
        "colab_type": "code",
        "colab": {}
      },
      "source": [
        "from keras.callbacks import LearningRateScheduler, ModelCheckpoint\n",
        "def lr_schedule(epoch):\n",
        "    return lr*(0.1**int(epoch/10))\n",
        "\n",
        "batch_size=32\n",
        "epochs=30\n"
      ],
      "execution_count": null,
      "outputs": []
    },
    {
      "cell_type": "code",
      "metadata": {
        "id": "JSR_go37mfk8",
        "colab_type": "code",
        "colab": {}
      },
      "source": [
        "from keras.optimizers import SGD\n",
        "\n",
        "model2 = cnn_model()\n",
        "\n",
        "lr = 0.0001\n",
        "\n",
        "model2.compile(loss='categorical_crossentropy',\n",
        "              optimizer=SGD(lr=lr, decay=1e-6, momentum=0.9, nesterov=True),\n",
        "              metrics=['accuracy'])\n",
        "\n"
      ],
      "execution_count": null,
      "outputs": []
    },
    {
      "cell_type": "code",
      "metadata": {
        "id": "Iy4b1B1rgnIP",
        "colab_type": "code",
        "colab": {}
      },
      "source": [
        "# with adam\n",
        "model2 = cnn_model()\n",
        "\n",
        "lr = 0.0001\n",
        "\n",
        "model2.compile(loss='categorical_crossentropy',\n",
        "              optimizer=adam(lr=lr),\n",
        "              metrics=['accuracy'])\n",
        "\n"
      ],
      "execution_count": null,
      "outputs": []
    },
    {
      "cell_type": "code",
      "metadata": {
        "id": "9c-GHwc2sjUL",
        "colab_type": "code",
        "colab": {
          "base_uri": "https://localhost:8080/",
          "height": 1000
        },
        "outputId": "0cae0f19-dea9-445a-c77f-e978336a0860"
      },
      "source": [
        "# train model\n",
        "model2.fit(X, Y, batch_size=batch_size, epochs=epochs,validation_split=0.2,\n",
        "        #   callbacks=[ModelCheckpoint('model.h5', save_best_only=True)])\n",
        "\n",
        "          callbacks=[LearningRateScheduler(lr_schedule),\n",
        "                     ModelCheckpoint('model2.h5', save_best_only=True)])\n"
      ],
      "execution_count": null,
      "outputs": [
        {
          "output_type": "stream",
          "text": [
            "Train on 31367 samples, validate on 7842 samples\n",
            "Epoch 1/30\n",
            "31367/31367 [==============================] - 26s 839us/step - loss: 1.9588 - accuracy: 0.4627 - val_loss: 0.6708 - val_accuracy: 0.8101\n",
            "Epoch 2/30\n",
            "31367/31367 [==============================] - 26s 822us/step - loss: 0.7100 - accuracy: 0.7875 - val_loss: 0.4240 - val_accuracy: 0.8783\n",
            "Epoch 3/30\n",
            "31367/31367 [==============================] - 26s 824us/step - loss: 0.4772 - accuracy: 0.8567 - val_loss: 0.2987 - val_accuracy: 0.9102\n",
            "Epoch 4/30\n",
            "31367/31367 [==============================] - 26s 826us/step - loss: 0.3628 - accuracy: 0.8907 - val_loss: 0.2520 - val_accuracy: 0.9297\n",
            "Epoch 5/30\n",
            "31367/31367 [==============================] - 26s 833us/step - loss: 0.2957 - accuracy: 0.9104 - val_loss: 0.2158 - val_accuracy: 0.9383\n",
            "Epoch 6/30\n",
            "31367/31367 [==============================] - 26s 824us/step - loss: 0.2449 - accuracy: 0.9244 - val_loss: 0.1946 - val_accuracy: 0.9445\n",
            "Epoch 7/30\n",
            "31367/31367 [==============================] - 26s 822us/step - loss: 0.2061 - accuracy: 0.9360 - val_loss: 0.1827 - val_accuracy: 0.9453\n",
            "Epoch 8/30\n",
            "31367/31367 [==============================] - 26s 819us/step - loss: 0.1786 - accuracy: 0.9446 - val_loss: 0.1682 - val_accuracy: 0.9505\n",
            "Epoch 9/30\n",
            "31367/31367 [==============================] - 26s 829us/step - loss: 0.1566 - accuracy: 0.9513 - val_loss: 0.1540 - val_accuracy: 0.9543\n",
            "Epoch 10/30\n",
            "31367/31367 [==============================] - 26s 817us/step - loss: 0.1364 - accuracy: 0.9562 - val_loss: 0.1543 - val_accuracy: 0.9540\n",
            "Epoch 11/30\n",
            "31367/31367 [==============================] - 26s 818us/step - loss: 0.1163 - accuracy: 0.9634 - val_loss: 0.1522 - val_accuracy: 0.9546\n",
            "Epoch 12/30\n",
            "31367/31367 [==============================] - 26s 818us/step - loss: 0.1117 - accuracy: 0.9646 - val_loss: 0.1504 - val_accuracy: 0.9546\n",
            "Epoch 13/30\n",
            "31367/31367 [==============================] - 26s 817us/step - loss: 0.1126 - accuracy: 0.9647 - val_loss: 0.1488 - val_accuracy: 0.9549\n",
            "Epoch 14/30\n",
            "31367/31367 [==============================] - 26s 822us/step - loss: 0.1137 - accuracy: 0.9639 - val_loss: 0.1474 - val_accuracy: 0.9555\n",
            "Epoch 15/30\n",
            "31367/31367 [==============================] - 26s 820us/step - loss: 0.1137 - accuracy: 0.9638 - val_loss: 0.1463 - val_accuracy: 0.9559\n",
            "Epoch 16/30\n",
            "31367/31367 [==============================] - 26s 824us/step - loss: 0.1100 - accuracy: 0.9649 - val_loss: 0.1454 - val_accuracy: 0.9566\n",
            "Epoch 17/30\n",
            "31367/31367 [==============================] - 26s 833us/step - loss: 0.1107 - accuracy: 0.9656 - val_loss: 0.1447 - val_accuracy: 0.9568\n",
            "Epoch 18/30\n",
            "31367/31367 [==============================] - 26s 821us/step - loss: 0.1064 - accuracy: 0.9671 - val_loss: 0.1439 - val_accuracy: 0.9573\n",
            "Epoch 19/30\n",
            "31367/31367 [==============================] - 26s 822us/step - loss: 0.1066 - accuracy: 0.9664 - val_loss: 0.1432 - val_accuracy: 0.9577\n",
            "Epoch 20/30\n",
            "31367/31367 [==============================] - 26s 820us/step - loss: 0.1072 - accuracy: 0.9662 - val_loss: 0.1426 - val_accuracy: 0.9579\n",
            "Epoch 21/30\n",
            "31367/31367 [==============================] - 26s 826us/step - loss: 0.1043 - accuracy: 0.9668 - val_loss: 0.1426 - val_accuracy: 0.9579\n",
            "Epoch 22/30\n",
            "31367/31367 [==============================] - 26s 820us/step - loss: 0.1044 - accuracy: 0.9668 - val_loss: 0.1426 - val_accuracy: 0.9579\n",
            "Epoch 23/30\n",
            "31367/31367 [==============================] - 26s 820us/step - loss: 0.1085 - accuracy: 0.9656 - val_loss: 0.1426 - val_accuracy: 0.9579\n",
            "Epoch 24/30\n",
            "31367/31367 [==============================] - 26s 822us/step - loss: 0.1056 - accuracy: 0.9673 - val_loss: 0.1426 - val_accuracy: 0.9579\n",
            "Epoch 25/30\n",
            "31367/31367 [==============================] - 26s 822us/step - loss: 0.1074 - accuracy: 0.9667 - val_loss: 0.1426 - val_accuracy: 0.9579\n",
            "Epoch 26/30\n",
            "31367/31367 [==============================] - 26s 823us/step - loss: 0.1045 - accuracy: 0.9676 - val_loss: 0.1426 - val_accuracy: 0.9579\n",
            "Epoch 27/30\n",
            "31367/31367 [==============================] - 26s 819us/step - loss: 0.1043 - accuracy: 0.9676 - val_loss: 0.1426 - val_accuracy: 0.9579\n",
            "Epoch 28/30\n",
            "31367/31367 [==============================] - 26s 828us/step - loss: 0.1065 - accuracy: 0.9669 - val_loss: 0.1426 - val_accuracy: 0.9579\n",
            "Epoch 29/30\n",
            "31367/31367 [==============================] - 26s 822us/step - loss: 0.1045 - accuracy: 0.9670 - val_loss: 0.1426 - val_accuracy: 0.9579\n",
            "Epoch 30/30\n",
            "31367/31367 [==============================] - 26s 818us/step - loss: 0.1046 - accuracy: 0.9673 - val_loss: 0.1426 - val_accuracy: 0.9579\n"
          ],
          "name": "stdout"
        },
        {
          "output_type": "execute_result",
          "data": {
            "text/plain": [
              "<keras.callbacks.callbacks.History at 0x7f83c94eb6d8>"
            ]
          },
          "metadata": {
            "tags": []
          },
          "execution_count": 28
        }
      ]
    },
    {
      "cell_type": "code",
      "metadata": {
        "id": "It0rUYHhiD4M",
        "colab_type": "code",
        "colab": {
          "base_uri": "https://localhost:8080/",
          "height": 1000
        },
        "outputId": "f0aa41a1-671f-46be-be97-90aea14bf98c"
      },
      "source": [
        "# train model\n",
        "model.fit(X, Y, batch_size=batch_size, epochs=epochs,validation_split=0.2,\n",
        "        #   callbacks=[ModelCheckpoint('model.h5', save_best_only=True)])\n",
        "\n",
        "          callbacks=[LearningRateScheduler(lr_schedule),\n",
        "                     ModelCheckpoint('model.h5', save_best_only=True)])\n"
      ],
      "execution_count": null,
      "outputs": [
        {
          "output_type": "stream",
          "text": [
            "Train on 31367 samples, validate on 7842 samples\n",
            "Epoch 1/30\n",
            "31367/31367 [==============================] - 23s 733us/step - loss: 0.4739 - accuracy: 0.8575 - val_loss: 0.3331 - val_accuracy: 0.9045\n",
            "Epoch 2/30\n",
            "31367/31367 [==============================] - 23s 730us/step - loss: 0.4597 - accuracy: 0.8614 - val_loss: 0.3270 - val_accuracy: 0.9059\n",
            "Epoch 3/30\n",
            "31367/31367 [==============================] - 23s 729us/step - loss: 0.4475 - accuracy: 0.8650 - val_loss: 0.3189 - val_accuracy: 0.9069\n",
            "Epoch 4/30\n",
            "31367/31367 [==============================] - 23s 732us/step - loss: 0.4514 - accuracy: 0.8610 - val_loss: 0.3124 - val_accuracy: 0.9132\n",
            "Epoch 5/30\n",
            "31367/31367 [==============================] - 23s 732us/step - loss: 0.4266 - accuracy: 0.8704 - val_loss: 0.3101 - val_accuracy: 0.9115\n",
            "Epoch 6/30\n",
            "31367/31367 [==============================] - 23s 735us/step - loss: 0.4197 - accuracy: 0.8727 - val_loss: 0.2997 - val_accuracy: 0.9143\n",
            "Epoch 7/30\n",
            "31367/31367 [==============================] - 23s 732us/step - loss: 0.4084 - accuracy: 0.8745 - val_loss: 0.2951 - val_accuracy: 0.9147\n",
            "Epoch 8/30\n",
            "31367/31367 [==============================] - 23s 729us/step - loss: 0.4004 - accuracy: 0.8795 - val_loss: 0.2900 - val_accuracy: 0.9197\n",
            "Epoch 9/30\n",
            "31367/31367 [==============================] - 23s 728us/step - loss: 0.3940 - accuracy: 0.8794 - val_loss: 0.2857 - val_accuracy: 0.9204\n",
            "Epoch 10/30\n",
            "31367/31367 [==============================] - 23s 730us/step - loss: 0.3825 - accuracy: 0.8837 - val_loss: 0.2794 - val_accuracy: 0.9223\n",
            "Epoch 11/30\n",
            "31367/31367 [==============================] - 23s 727us/step - loss: 0.3854 - accuracy: 0.8805 - val_loss: 0.2833 - val_accuracy: 0.9212\n",
            "Epoch 12/30\n",
            "31367/31367 [==============================] - 23s 732us/step - loss: 0.3866 - accuracy: 0.8808 - val_loss: 0.2827 - val_accuracy: 0.9211\n",
            "Epoch 13/30\n",
            "31367/31367 [==============================] - 23s 735us/step - loss: 0.3806 - accuracy: 0.8820 - val_loss: 0.2822 - val_accuracy: 0.9212\n",
            "Epoch 14/30\n",
            "31367/31367 [==============================] - 23s 740us/step - loss: 0.3784 - accuracy: 0.8846 - val_loss: 0.2817 - val_accuracy: 0.9214\n",
            "Epoch 15/30\n",
            "31367/31367 [==============================] - 23s 727us/step - loss: 0.3781 - accuracy: 0.8832 - val_loss: 0.2813 - val_accuracy: 0.9216\n",
            "Epoch 16/30\n",
            "31367/31367 [==============================] - 23s 728us/step - loss: 0.3799 - accuracy: 0.8831 - val_loss: 0.2809 - val_accuracy: 0.9218\n",
            "Epoch 17/30\n",
            "31367/31367 [==============================] - 23s 729us/step - loss: 0.3808 - accuracy: 0.8838 - val_loss: 0.2806 - val_accuracy: 0.9217\n",
            "Epoch 18/30\n",
            "31367/31367 [==============================] - 23s 730us/step - loss: 0.3804 - accuracy: 0.8833 - val_loss: 0.2803 - val_accuracy: 0.9220\n",
            "Epoch 19/30\n",
            "31367/31367 [==============================] - 23s 733us/step - loss: 0.3793 - accuracy: 0.8831 - val_loss: 0.2800 - val_accuracy: 0.9220\n",
            "Epoch 20/30\n",
            "31367/31367 [==============================] - 23s 733us/step - loss: 0.3754 - accuracy: 0.8848 - val_loss: 0.2798 - val_accuracy: 0.9220\n",
            "Epoch 21/30\n",
            "31367/31367 [==============================] - 23s 731us/step - loss: 0.3774 - accuracy: 0.8836 - val_loss: 0.2798 - val_accuracy: 0.9220\n",
            "Epoch 22/30\n",
            "31367/31367 [==============================] - 23s 728us/step - loss: 0.3743 - accuracy: 0.8857 - val_loss: 0.2798 - val_accuracy: 0.9220\n",
            "Epoch 23/30\n",
            "31367/31367 [==============================] - 23s 732us/step - loss: 0.3781 - accuracy: 0.8840 - val_loss: 0.2798 - val_accuracy: 0.9220\n",
            "Epoch 24/30\n",
            "31367/31367 [==============================] - 23s 731us/step - loss: 0.3773 - accuracy: 0.8848 - val_loss: 0.2798 - val_accuracy: 0.9220\n",
            "Epoch 25/30\n",
            "31367/31367 [==============================] - 23s 729us/step - loss: 0.3742 - accuracy: 0.8860 - val_loss: 0.2798 - val_accuracy: 0.9220\n",
            "Epoch 26/30\n",
            "31367/31367 [==============================] - 23s 730us/step - loss: 0.3720 - accuracy: 0.8847 - val_loss: 0.2798 - val_accuracy: 0.9220\n",
            "Epoch 27/30\n",
            "31367/31367 [==============================] - 23s 743us/step - loss: 0.3804 - accuracy: 0.8831 - val_loss: 0.2798 - val_accuracy: 0.9220\n",
            "Epoch 28/30\n",
            "31367/31367 [==============================] - 23s 730us/step - loss: 0.3762 - accuracy: 0.8864 - val_loss: 0.2798 - val_accuracy: 0.9220\n",
            "Epoch 29/30\n",
            "31367/31367 [==============================] - 23s 727us/step - loss: 0.3787 - accuracy: 0.8846 - val_loss: 0.2798 - val_accuracy: 0.9220\n",
            "Epoch 30/30\n",
            "31367/31367 [==============================] - 23s 730us/step - loss: 0.3799 - accuracy: 0.8827 - val_loss: 0.2798 - val_accuracy: 0.9220\n"
          ],
          "name": "stdout"
        },
        {
          "output_type": "execute_result",
          "data": {
            "text/plain": [
              "<keras.callbacks.callbacks.History at 0x7f83c966feb8>"
            ]
          },
          "metadata": {
            "tags": []
          },
          "execution_count": 17
        }
      ]
    },
    {
      "cell_type": "code",
      "metadata": {
        "id": "cvUCRWRikijQ",
        "colab_type": "code",
        "colab": {}
      },
      "source": [
        "!cp /content/model.h5 /content/drive/My\\ Drive/GTSRB/model1.h5 "
      ],
      "execution_count": null,
      "outputs": []
    },
    {
      "cell_type": "code",
      "metadata": {
        "id": "WbyKW4c7tQgg",
        "colab_type": "code",
        "colab": {}
      },
      "source": [
        "!cp /content/model2.h5 /content/drive/My\\ Drive/GTSRB/model2.h5 "
      ],
      "execution_count": null,
      "outputs": []
    },
    {
      "cell_type": "code",
      "metadata": {
        "id": "d7CdSK9rsGjI",
        "colab_type": "code",
        "colab": {}
      },
      "source": [
        "!ls /mnt"
      ],
      "execution_count": null,
      "outputs": []
    },
    {
      "cell_type": "code",
      "metadata": {
        "id": "kuyPc9g6mxww",
        "colab_type": "code",
        "colab": {}
      },
      "source": [
        "test_entries = pd.read_csv('/content/GT-final_test.csv', sep=';')\n",
        "BASE_TEST_DIR = \"/content/P_GTSRB/Final_Test/Images/\"\n",
        "\n",
        "X_test = []\n",
        "y_test = []\n",
        "i = 0\n",
        "\n",
        "for file_name, class_id in zip(list(test_entries['Filename']), list(test_entries['ClassId'])):\n",
        "    img_path = os.path.join(BASE_TEST_DIR, file_name)\n",
        "    X_test.append(cv2.imread(img_path))\n",
        "    y_test.append(class_id)\n",
        "\n",
        "X_test = np.array(X_test)\n",
        "y_test = np.array(y_test)"
      ],
      "execution_count": null,
      "outputs": []
    },
    {
      "cell_type": "code",
      "metadata": {
        "id": "4rkaiOHVmxt4",
        "colab_type": "code",
        "colab": {
          "base_uri": "https://localhost:8080/",
          "height": 35
        },
        "outputId": "66659a49-91f6-47f0-bd1f-6cf76ce2a6bd"
      },
      "source": [
        "predictions = model.predict_classes(X_test)\n",
        "acc = np.sum(predictions== y_test)/np.size(predictions)\n",
        "print(acc)"
      ],
      "execution_count": null,
      "outputs": [
        {
          "output_type": "stream",
          "text": [
            "0.8569279493269992\n"
          ],
          "name": "stdout"
        }
      ]
    },
    {
      "cell_type": "code",
      "metadata": {
        "id": "sFmunples7xI",
        "colab_type": "code",
        "colab": {
          "base_uri": "https://localhost:8080/",
          "height": 35
        },
        "outputId": "3b1577b4-51ed-471f-a9d8-ce1a14510fae"
      },
      "source": [
        "predictions = model2.predict_classes(X_test)\n",
        "acc = np.sum(predictions== y_test)/np.size(predictions)\n",
        "print(acc)"
      ],
      "execution_count": null,
      "outputs": [
        {
          "output_type": "stream",
          "text": [
            "0.8912905779889153\n"
          ],
          "name": "stdout"
        }
      ]
    }
  ]
}